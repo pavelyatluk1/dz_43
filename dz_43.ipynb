{
 "cells": [
  {
   "cell_type": "markdown",
   "id": "89aad205",
   "metadata": {},
   "source": [
    "#### Pavlo Yatluk\n",
    "#### dz_43"
   ]
  },
  {
   "cell_type": "markdown",
   "id": "183aa33c",
   "metadata": {},
   "source": [
    "### ЗАВДАННЯ"
   ]
  },
  {
   "cell_type": "markdown",
   "id": "44024378",
   "metadata": {},
   "source": [
    "#### Застосуйте описані в лекції методи відбору ознак, використовуючи вже відомий вам датасет ірісів Фішера. Код для завантаження датасету: from sklearn import datasets iris = datasets.load_iris(). Прикріпіть посилання на файли на GitHub."
   ]
  },
  {
   "cell_type": "code",
   "execution_count": 37,
   "id": "de6fec78",
   "metadata": {},
   "outputs": [],
   "source": [
    "from sklearn.feature_selection import VarianceThreshold\n",
    "import sklearn.datasets as sns\n",
    "import pandas as pd"
   ]
  },
  {
   "cell_type": "code",
   "execution_count": 38,
   "id": "ac68f2cc",
   "metadata": {},
   "outputs": [
    {
     "data": {
      "text/plain": [
       "{'data': array([[5.1, 3.5, 1.4, 0.2],\n",
       "        [4.9, 3. , 1.4, 0.2],\n",
       "        [4.7, 3.2, 1.3, 0.2],\n",
       "        [4.6, 3.1, 1.5, 0.2],\n",
       "        [5. , 3.6, 1.4, 0.2],\n",
       "        [5.4, 3.9, 1.7, 0.4],\n",
       "        [4.6, 3.4, 1.4, 0.3],\n",
       "        [5. , 3.4, 1.5, 0.2],\n",
       "        [4.4, 2.9, 1.4, 0.2],\n",
       "        [4.9, 3.1, 1.5, 0.1],\n",
       "        [5.4, 3.7, 1.5, 0.2],\n",
       "        [4.8, 3.4, 1.6, 0.2],\n",
       "        [4.8, 3. , 1.4, 0.1],\n",
       "        [4.3, 3. , 1.1, 0.1],\n",
       "        [5.8, 4. , 1.2, 0.2],\n",
       "        [5.7, 4.4, 1.5, 0.4],\n",
       "        [5.4, 3.9, 1.3, 0.4],\n",
       "        [5.1, 3.5, 1.4, 0.3],\n",
       "        [5.7, 3.8, 1.7, 0.3],\n",
       "        [5.1, 3.8, 1.5, 0.3],\n",
       "        [5.4, 3.4, 1.7, 0.2],\n",
       "        [5.1, 3.7, 1.5, 0.4],\n",
       "        [4.6, 3.6, 1. , 0.2],\n",
       "        [5.1, 3.3, 1.7, 0.5],\n",
       "        [4.8, 3.4, 1.9, 0.2],\n",
       "        [5. , 3. , 1.6, 0.2],\n",
       "        [5. , 3.4, 1.6, 0.4],\n",
       "        [5.2, 3.5, 1.5, 0.2],\n",
       "        [5.2, 3.4, 1.4, 0.2],\n",
       "        [4.7, 3.2, 1.6, 0.2],\n",
       "        [4.8, 3.1, 1.6, 0.2],\n",
       "        [5.4, 3.4, 1.5, 0.4],\n",
       "        [5.2, 4.1, 1.5, 0.1],\n",
       "        [5.5, 4.2, 1.4, 0.2],\n",
       "        [4.9, 3.1, 1.5, 0.2],\n",
       "        [5. , 3.2, 1.2, 0.2],\n",
       "        [5.5, 3.5, 1.3, 0.2],\n",
       "        [4.9, 3.6, 1.4, 0.1],\n",
       "        [4.4, 3. , 1.3, 0.2],\n",
       "        [5.1, 3.4, 1.5, 0.2],\n",
       "        [5. , 3.5, 1.3, 0.3],\n",
       "        [4.5, 2.3, 1.3, 0.3],\n",
       "        [4.4, 3.2, 1.3, 0.2],\n",
       "        [5. , 3.5, 1.6, 0.6],\n",
       "        [5.1, 3.8, 1.9, 0.4],\n",
       "        [4.8, 3. , 1.4, 0.3],\n",
       "        [5.1, 3.8, 1.6, 0.2],\n",
       "        [4.6, 3.2, 1.4, 0.2],\n",
       "        [5.3, 3.7, 1.5, 0.2],\n",
       "        [5. , 3.3, 1.4, 0.2],\n",
       "        [7. , 3.2, 4.7, 1.4],\n",
       "        [6.4, 3.2, 4.5, 1.5],\n",
       "        [6.9, 3.1, 4.9, 1.5],\n",
       "        [5.5, 2.3, 4. , 1.3],\n",
       "        [6.5, 2.8, 4.6, 1.5],\n",
       "        [5.7, 2.8, 4.5, 1.3],\n",
       "        [6.3, 3.3, 4.7, 1.6],\n",
       "        [4.9, 2.4, 3.3, 1. ],\n",
       "        [6.6, 2.9, 4.6, 1.3],\n",
       "        [5.2, 2.7, 3.9, 1.4],\n",
       "        [5. , 2. , 3.5, 1. ],\n",
       "        [5.9, 3. , 4.2, 1.5],\n",
       "        [6. , 2.2, 4. , 1. ],\n",
       "        [6.1, 2.9, 4.7, 1.4],\n",
       "        [5.6, 2.9, 3.6, 1.3],\n",
       "        [6.7, 3.1, 4.4, 1.4],\n",
       "        [5.6, 3. , 4.5, 1.5],\n",
       "        [5.8, 2.7, 4.1, 1. ],\n",
       "        [6.2, 2.2, 4.5, 1.5],\n",
       "        [5.6, 2.5, 3.9, 1.1],\n",
       "        [5.9, 3.2, 4.8, 1.8],\n",
       "        [6.1, 2.8, 4. , 1.3],\n",
       "        [6.3, 2.5, 4.9, 1.5],\n",
       "        [6.1, 2.8, 4.7, 1.2],\n",
       "        [6.4, 2.9, 4.3, 1.3],\n",
       "        [6.6, 3. , 4.4, 1.4],\n",
       "        [6.8, 2.8, 4.8, 1.4],\n",
       "        [6.7, 3. , 5. , 1.7],\n",
       "        [6. , 2.9, 4.5, 1.5],\n",
       "        [5.7, 2.6, 3.5, 1. ],\n",
       "        [5.5, 2.4, 3.8, 1.1],\n",
       "        [5.5, 2.4, 3.7, 1. ],\n",
       "        [5.8, 2.7, 3.9, 1.2],\n",
       "        [6. , 2.7, 5.1, 1.6],\n",
       "        [5.4, 3. , 4.5, 1.5],\n",
       "        [6. , 3.4, 4.5, 1.6],\n",
       "        [6.7, 3.1, 4.7, 1.5],\n",
       "        [6.3, 2.3, 4.4, 1.3],\n",
       "        [5.6, 3. , 4.1, 1.3],\n",
       "        [5.5, 2.5, 4. , 1.3],\n",
       "        [5.5, 2.6, 4.4, 1.2],\n",
       "        [6.1, 3. , 4.6, 1.4],\n",
       "        [5.8, 2.6, 4. , 1.2],\n",
       "        [5. , 2.3, 3.3, 1. ],\n",
       "        [5.6, 2.7, 4.2, 1.3],\n",
       "        [5.7, 3. , 4.2, 1.2],\n",
       "        [5.7, 2.9, 4.2, 1.3],\n",
       "        [6.2, 2.9, 4.3, 1.3],\n",
       "        [5.1, 2.5, 3. , 1.1],\n",
       "        [5.7, 2.8, 4.1, 1.3],\n",
       "        [6.3, 3.3, 6. , 2.5],\n",
       "        [5.8, 2.7, 5.1, 1.9],\n",
       "        [7.1, 3. , 5.9, 2.1],\n",
       "        [6.3, 2.9, 5.6, 1.8],\n",
       "        [6.5, 3. , 5.8, 2.2],\n",
       "        [7.6, 3. , 6.6, 2.1],\n",
       "        [4.9, 2.5, 4.5, 1.7],\n",
       "        [7.3, 2.9, 6.3, 1.8],\n",
       "        [6.7, 2.5, 5.8, 1.8],\n",
       "        [7.2, 3.6, 6.1, 2.5],\n",
       "        [6.5, 3.2, 5.1, 2. ],\n",
       "        [6.4, 2.7, 5.3, 1.9],\n",
       "        [6.8, 3. , 5.5, 2.1],\n",
       "        [5.7, 2.5, 5. , 2. ],\n",
       "        [5.8, 2.8, 5.1, 2.4],\n",
       "        [6.4, 3.2, 5.3, 2.3],\n",
       "        [6.5, 3. , 5.5, 1.8],\n",
       "        [7.7, 3.8, 6.7, 2.2],\n",
       "        [7.7, 2.6, 6.9, 2.3],\n",
       "        [6. , 2.2, 5. , 1.5],\n",
       "        [6.9, 3.2, 5.7, 2.3],\n",
       "        [5.6, 2.8, 4.9, 2. ],\n",
       "        [7.7, 2.8, 6.7, 2. ],\n",
       "        [6.3, 2.7, 4.9, 1.8],\n",
       "        [6.7, 3.3, 5.7, 2.1],\n",
       "        [7.2, 3.2, 6. , 1.8],\n",
       "        [6.2, 2.8, 4.8, 1.8],\n",
       "        [6.1, 3. , 4.9, 1.8],\n",
       "        [6.4, 2.8, 5.6, 2.1],\n",
       "        [7.2, 3. , 5.8, 1.6],\n",
       "        [7.4, 2.8, 6.1, 1.9],\n",
       "        [7.9, 3.8, 6.4, 2. ],\n",
       "        [6.4, 2.8, 5.6, 2.2],\n",
       "        [6.3, 2.8, 5.1, 1.5],\n",
       "        [6.1, 2.6, 5.6, 1.4],\n",
       "        [7.7, 3. , 6.1, 2.3],\n",
       "        [6.3, 3.4, 5.6, 2.4],\n",
       "        [6.4, 3.1, 5.5, 1.8],\n",
       "        [6. , 3. , 4.8, 1.8],\n",
       "        [6.9, 3.1, 5.4, 2.1],\n",
       "        [6.7, 3.1, 5.6, 2.4],\n",
       "        [6.9, 3.1, 5.1, 2.3],\n",
       "        [5.8, 2.7, 5.1, 1.9],\n",
       "        [6.8, 3.2, 5.9, 2.3],\n",
       "        [6.7, 3.3, 5.7, 2.5],\n",
       "        [6.7, 3. , 5.2, 2.3],\n",
       "        [6.3, 2.5, 5. , 1.9],\n",
       "        [6.5, 3. , 5.2, 2. ],\n",
       "        [6.2, 3.4, 5.4, 2.3],\n",
       "        [5.9, 3. , 5.1, 1.8]]),\n",
       " 'target': array([0, 0, 0, 0, 0, 0, 0, 0, 0, 0, 0, 0, 0, 0, 0, 0, 0, 0, 0, 0, 0, 0,\n",
       "        0, 0, 0, 0, 0, 0, 0, 0, 0, 0, 0, 0, 0, 0, 0, 0, 0, 0, 0, 0, 0, 0,\n",
       "        0, 0, 0, 0, 0, 0, 1, 1, 1, 1, 1, 1, 1, 1, 1, 1, 1, 1, 1, 1, 1, 1,\n",
       "        1, 1, 1, 1, 1, 1, 1, 1, 1, 1, 1, 1, 1, 1, 1, 1, 1, 1, 1, 1, 1, 1,\n",
       "        1, 1, 1, 1, 1, 1, 1, 1, 1, 1, 1, 1, 2, 2, 2, 2, 2, 2, 2, 2, 2, 2,\n",
       "        2, 2, 2, 2, 2, 2, 2, 2, 2, 2, 2, 2, 2, 2, 2, 2, 2, 2, 2, 2, 2, 2,\n",
       "        2, 2, 2, 2, 2, 2, 2, 2, 2, 2, 2, 2, 2, 2, 2, 2, 2, 2]),\n",
       " 'frame': None,\n",
       " 'target_names': array(['setosa', 'versicolor', 'virginica'], dtype='<U10'),\n",
       " 'DESCR': '.. _iris_dataset:\\n\\nIris plants dataset\\n--------------------\\n\\n**Data Set Characteristics:**\\n\\n    :Number of Instances: 150 (50 in each of three classes)\\n    :Number of Attributes: 4 numeric, predictive attributes and the class\\n    :Attribute Information:\\n        - sepal length in cm\\n        - sepal width in cm\\n        - petal length in cm\\n        - petal width in cm\\n        - class:\\n                - Iris-Setosa\\n                - Iris-Versicolour\\n                - Iris-Virginica\\n                \\n    :Summary Statistics:\\n\\n    ============== ==== ==== ======= ===== ====================\\n                    Min  Max   Mean    SD   Class Correlation\\n    ============== ==== ==== ======= ===== ====================\\n    sepal length:   4.3  7.9   5.84   0.83    0.7826\\n    sepal width:    2.0  4.4   3.05   0.43   -0.4194\\n    petal length:   1.0  6.9   3.76   1.76    0.9490  (high!)\\n    petal width:    0.1  2.5   1.20   0.76    0.9565  (high!)\\n    ============== ==== ==== ======= ===== ====================\\n\\n    :Missing Attribute Values: None\\n    :Class Distribution: 33.3% for each of 3 classes.\\n    :Creator: R.A. Fisher\\n    :Donor: Michael Marshall (MARSHALL%PLU@io.arc.nasa.gov)\\n    :Date: July, 1988\\n\\nThe famous Iris database, first used by Sir R.A. Fisher. The dataset is taken\\nfrom Fisher\\'s paper. Note that it\\'s the same as in R, but not as in the UCI\\nMachine Learning Repository, which has two wrong data points.\\n\\nThis is perhaps the best known database to be found in the\\npattern recognition literature.  Fisher\\'s paper is a classic in the field and\\nis referenced frequently to this day.  (See Duda & Hart, for example.)  The\\ndata set contains 3 classes of 50 instances each, where each class refers to a\\ntype of iris plant.  One class is linearly separable from the other 2; the\\nlatter are NOT linearly separable from each other.\\n\\n.. topic:: References\\n\\n   - Fisher, R.A. \"The use of multiple measurements in taxonomic problems\"\\n     Annual Eugenics, 7, Part II, 179-188 (1936); also in \"Contributions to\\n     Mathematical Statistics\" (John Wiley, NY, 1950).\\n   - Duda, R.O., & Hart, P.E. (1973) Pattern Classification and Scene Analysis.\\n     (Q327.D83) John Wiley & Sons.  ISBN 0-471-22361-1.  See page 218.\\n   - Dasarathy, B.V. (1980) \"Nosing Around the Neighborhood: A New System\\n     Structure and Classification Rule for Recognition in Partially Exposed\\n     Environments\".  IEEE Transactions on Pattern Analysis and Machine\\n     Intelligence, Vol. PAMI-2, No. 1, 67-71.\\n   - Gates, G.W. (1972) \"The Reduced Nearest Neighbor Rule\".  IEEE Transactions\\n     on Information Theory, May 1972, 431-433.\\n   - See also: 1988 MLC Proceedings, 54-64.  Cheeseman et al\"s AUTOCLASS II\\n     conceptual clustering system finds 3 classes in the data.\\n   - Many, many more ...',\n",
       " 'feature_names': ['sepal length (cm)',\n",
       "  'sepal width (cm)',\n",
       "  'petal length (cm)',\n",
       "  'petal width (cm)'],\n",
       " 'filename': 'iris.csv',\n",
       " 'data_module': 'sklearn.datasets.data'}"
      ]
     },
     "execution_count": 38,
     "metadata": {},
     "output_type": "execute_result"
    }
   ],
   "source": [
    "# загружаємо датасет\n",
    "\n",
    "from sklearn import datasets\n",
    "iris = datasets.load_iris()\n",
    "iris"
   ]
  },
  {
   "cell_type": "code",
   "execution_count": 39,
   "id": "f78913bc",
   "metadata": {},
   "outputs": [
    {
     "name": "stdout",
     "output_type": "stream",
     "text": [
      "     sepal length  sepal width  petal length  petal width\n",
      "0             5.1          3.5           1.4          0.2\n",
      "1             4.9          3.0           1.4          0.2\n",
      "2             4.7          3.2           1.3          0.2\n",
      "3             4.6          3.1           1.5          0.2\n",
      "4             5.0          3.6           1.4          0.2\n",
      "..            ...          ...           ...          ...\n",
      "145           6.7          3.0           5.2          2.3\n",
      "146           6.3          2.5           5.0          1.9\n",
      "147           6.5          3.0           5.2          2.0\n",
      "148           6.2          3.4           5.4          2.3\n",
      "149           5.9          3.0           5.1          1.8\n",
      "\n",
      "[150 rows x 4 columns]\n",
      "     target\n",
      "0         0\n",
      "1         0\n",
      "2         0\n",
      "3         0\n",
      "4         0\n",
      "..      ...\n",
      "145       2\n",
      "146       2\n",
      "147       2\n",
      "148       2\n",
      "149       2\n",
      "\n",
      "[150 rows x 1 columns]\n"
     ]
    }
   ],
   "source": [
    "# визначаємо X та y\n",
    "\n",
    "X = pd.DataFrame(iris['data'], columns=['sepal length', 'sepal width', 'petal length', 'petal width'])\n",
    "print(X)                 \n",
    "y = pd.DataFrame(iris['target'], columns=[\"target\"])\n",
    "print(y)"
   ]
  },
  {
   "cell_type": "code",
   "execution_count": 20,
   "id": "7889a7aa",
   "metadata": {},
   "outputs": [
    {
     "data": {
      "text/plain": [
       "(1797, 64)"
      ]
     },
     "execution_count": 20,
     "metadata": {},
     "output_type": "execute_result"
    }
   ],
   "source": [
    "X.shape"
   ]
  },
  {
   "cell_type": "markdown",
   "id": "085da8e8",
   "metadata": {},
   "source": [
    "### Статистичний метод фільтрації ознак VarianceThreshold"
   ]
  },
  {
   "cell_type": "code",
   "execution_count": 22,
   "id": "cfc90593",
   "metadata": {},
   "outputs": [],
   "source": [
    "# створюємо модель з пороговим значеннм дисперсії - 0,4\n",
    "\n",
    "selector = VarianceThreshold(threshold=0.4)"
   ]
  },
  {
   "cell_type": "code",
   "execution_count": 23,
   "id": "85e13da6",
   "metadata": {},
   "outputs": [
    {
     "data": {
      "text/plain": [
       "array([[ 0.,  5., 13., ...,  0.,  0.,  0.],\n",
       "       [ 0.,  0., 12., ..., 10.,  0.,  0.],\n",
       "       [ 0.,  0.,  4., ..., 16.,  9.,  0.],\n",
       "       ...,\n",
       "       [ 0.,  1., 11., ...,  6.,  0.,  0.],\n",
       "       [ 0.,  2., 10., ..., 12.,  0.,  0.],\n",
       "       [ 0., 10., 14., ..., 12.,  1.,  0.]])"
      ]
     },
     "execution_count": 23,
     "metadata": {},
     "output_type": "execute_result"
    }
   ],
   "source": [
    "# навчаємо модель\n",
    "\n",
    "selector.fit_transform(X)"
   ]
  },
  {
   "cell_type": "markdown",
   "id": "de7eaeed",
   "metadata": {},
   "source": [
    "### Статистичний метод ознак фільтрації SelectKBest"
   ]
  },
  {
   "cell_type": "code",
   "execution_count": 40,
   "id": "cc6a4b1c",
   "metadata": {},
   "outputs": [],
   "source": [
    "from sklearn.feature_selection import SelectKBest, f_classif\n",
    "from sklearn.datasets import load_digits"
   ]
  },
  {
   "cell_type": "code",
   "execution_count": 61,
   "id": "b9242cf3",
   "metadata": {},
   "outputs": [],
   "source": [
    "# визначаємо X та y\n",
    "\n",
    "X = pd.DataFrame(iris['data'], columns=['sepal length', 'sepal width', 'petal length', 'petal width'])               \n",
    "y = pd.DataFrame(iris['target'], columns=[\"target\"])\n",
    "X, y = load_digits(return_X_y=True)"
   ]
  },
  {
   "cell_type": "code",
   "execution_count": 62,
   "id": "523174ed",
   "metadata": {},
   "outputs": [
    {
     "data": {
      "text/plain": [
       "(1797, 64)"
      ]
     },
     "execution_count": 62,
     "metadata": {},
     "output_type": "execute_result"
    }
   ],
   "source": [
    "# початкова кількість ознак\n",
    "\n",
    "X.shape"
   ]
  },
  {
   "cell_type": "code",
   "execution_count": 27,
   "id": "9e2303fe",
   "metadata": {},
   "outputs": [
    {
     "name": "stderr",
     "output_type": "stream",
     "text": [
      "C:\\Users\\Pavel\\AppData\\Local\\Programs\\Python\\Python310\\lib\\site-packages\\sklearn\\feature_selection\\_univariate_selection.py:112: UserWarning: Features [ 0 32 39] are constant.\n",
      "  warnings.warn(\"Features %s are constant.\" % constant_features_idx, UserWarning)\n",
      "C:\\Users\\Pavel\\AppData\\Local\\Programs\\Python\\Python310\\lib\\site-packages\\sklearn\\feature_selection\\_univariate_selection.py:113: RuntimeWarning: invalid value encountered in divide\n",
      "  f = msb / msw\n"
     ]
    }
   ],
   "source": [
    "# сторюємо та тренуємо модель з заданою кількістю ознак к=20\n",
    "\n",
    "X_new = SelectKBest(f_classif, k=20).fit_transform(X,y)"
   ]
  },
  {
   "cell_type": "code",
   "execution_count": 28,
   "id": "6098a935",
   "metadata": {},
   "outputs": [
    {
     "data": {
      "text/plain": [
       "(1797, 20)"
      ]
     },
     "execution_count": 28,
     "metadata": {},
     "output_type": "execute_result"
    }
   ],
   "source": [
    "# кінцева кількість ознак\n",
    "\n",
    "X_new.shape"
   ]
  },
  {
   "cell_type": "markdown",
   "id": "0e8d287b",
   "metadata": {},
   "source": [
    "### Метод фільтрації ознак на основі ваг моделі - SelectFromModel"
   ]
  },
  {
   "cell_type": "code",
   "execution_count": 34,
   "id": "d6db05f5",
   "metadata": {},
   "outputs": [],
   "source": [
    "from sklearn.feature_selection import SelectFromModel\n",
    "from sklearn.linear_model import LogisticRegression\n",
    "import seaborn as sns"
   ]
  },
  {
   "cell_type": "code",
   "execution_count": 45,
   "id": "2ac38592",
   "metadata": {},
   "outputs": [],
   "source": [
    "# визначаємо X та y\n",
    "\n",
    "X = pd.DataFrame(iris['data'], columns=['sepal length', 'sepal width', 'petal length', 'petal width'])              \n",
    "y = pd.DataFrame(iris['target'], columns=[\"target\"])"
   ]
  },
  {
   "cell_type": "code",
   "execution_count": 46,
   "id": "f5721009",
   "metadata": {},
   "outputs": [
    {
     "name": "stderr",
     "output_type": "stream",
     "text": [
      "C:\\Users\\Pavel\\AppData\\Local\\Programs\\Python\\Python310\\lib\\site-packages\\sklearn\\utils\\validation.py:1143: DataConversionWarning: A column-vector y was passed when a 1d array was expected. Please change the shape of y to (n_samples, ), for example using ravel().\n",
      "  y = column_or_1d(y, warn=True)\n",
      "C:\\Users\\Pavel\\AppData\\Local\\Programs\\Python\\Python310\\lib\\site-packages\\sklearn\\linear_model\\_logistic.py:458: ConvergenceWarning: lbfgs failed to converge (status=1):\n",
      "STOP: TOTAL NO. of ITERATIONS REACHED LIMIT.\n",
      "\n",
      "Increase the number of iterations (max_iter) or scale the data as shown in:\n",
      "    https://scikit-learn.org/stable/modules/preprocessing.html\n",
      "Please also refer to the documentation for alternative solver options:\n",
      "    https://scikit-learn.org/stable/modules/linear_model.html#logistic-regression\n",
      "  n_iter_i = _check_optimize_result(\n"
     ]
    },
    {
     "data": {
      "text/html": [
       "<style>#sk-container-id-2 {color: black;background-color: white;}#sk-container-id-2 pre{padding: 0;}#sk-container-id-2 div.sk-toggleable {background-color: white;}#sk-container-id-2 label.sk-toggleable__label {cursor: pointer;display: block;width: 100%;margin-bottom: 0;padding: 0.3em;box-sizing: border-box;text-align: center;}#sk-container-id-2 label.sk-toggleable__label-arrow:before {content: \"▸\";float: left;margin-right: 0.25em;color: #696969;}#sk-container-id-2 label.sk-toggleable__label-arrow:hover:before {color: black;}#sk-container-id-2 div.sk-estimator:hover label.sk-toggleable__label-arrow:before {color: black;}#sk-container-id-2 div.sk-toggleable__content {max-height: 0;max-width: 0;overflow: hidden;text-align: left;background-color: #f0f8ff;}#sk-container-id-2 div.sk-toggleable__content pre {margin: 0.2em;color: black;border-radius: 0.25em;background-color: #f0f8ff;}#sk-container-id-2 input.sk-toggleable__control:checked~div.sk-toggleable__content {max-height: 200px;max-width: 100%;overflow: auto;}#sk-container-id-2 input.sk-toggleable__control:checked~label.sk-toggleable__label-arrow:before {content: \"▾\";}#sk-container-id-2 div.sk-estimator input.sk-toggleable__control:checked~label.sk-toggleable__label {background-color: #d4ebff;}#sk-container-id-2 div.sk-label input.sk-toggleable__control:checked~label.sk-toggleable__label {background-color: #d4ebff;}#sk-container-id-2 input.sk-hidden--visually {border: 0;clip: rect(1px 1px 1px 1px);clip: rect(1px, 1px, 1px, 1px);height: 1px;margin: -1px;overflow: hidden;padding: 0;position: absolute;width: 1px;}#sk-container-id-2 div.sk-estimator {font-family: monospace;background-color: #f0f8ff;border: 1px dotted black;border-radius: 0.25em;box-sizing: border-box;margin-bottom: 0.5em;}#sk-container-id-2 div.sk-estimator:hover {background-color: #d4ebff;}#sk-container-id-2 div.sk-parallel-item::after {content: \"\";width: 100%;border-bottom: 1px solid gray;flex-grow: 1;}#sk-container-id-2 div.sk-label:hover label.sk-toggleable__label {background-color: #d4ebff;}#sk-container-id-2 div.sk-serial::before {content: \"\";position: absolute;border-left: 1px solid gray;box-sizing: border-box;top: 0;bottom: 0;left: 50%;z-index: 0;}#sk-container-id-2 div.sk-serial {display: flex;flex-direction: column;align-items: center;background-color: white;padding-right: 0.2em;padding-left: 0.2em;position: relative;}#sk-container-id-2 div.sk-item {position: relative;z-index: 1;}#sk-container-id-2 div.sk-parallel {display: flex;align-items: stretch;justify-content: center;background-color: white;position: relative;}#sk-container-id-2 div.sk-item::before, #sk-container-id-2 div.sk-parallel-item::before {content: \"\";position: absolute;border-left: 1px solid gray;box-sizing: border-box;top: 0;bottom: 0;left: 50%;z-index: -1;}#sk-container-id-2 div.sk-parallel-item {display: flex;flex-direction: column;z-index: 1;position: relative;background-color: white;}#sk-container-id-2 div.sk-parallel-item:first-child::after {align-self: flex-end;width: 50%;}#sk-container-id-2 div.sk-parallel-item:last-child::after {align-self: flex-start;width: 50%;}#sk-container-id-2 div.sk-parallel-item:only-child::after {width: 0;}#sk-container-id-2 div.sk-dashed-wrapped {border: 1px dashed gray;margin: 0 0.4em 0.5em 0.4em;box-sizing: border-box;padding-bottom: 0.4em;background-color: white;}#sk-container-id-2 div.sk-label label {font-family: monospace;font-weight: bold;display: inline-block;line-height: 1.2em;}#sk-container-id-2 div.sk-label-container {text-align: center;}#sk-container-id-2 div.sk-container {/* jupyter's `normalize.less` sets `[hidden] { display: none; }` but bootstrap.min.css set `[hidden] { display: none !important; }` so we also need the `!important` here to be able to override the default hidden behavior on the sphinx rendered scikit-learn.org. See: https://github.com/scikit-learn/scikit-learn/issues/21755 */display: inline-block !important;position: relative;}#sk-container-id-2 div.sk-text-repr-fallback {display: none;}</style><div id=\"sk-container-id-2\" class=\"sk-top-container\"><div class=\"sk-text-repr-fallback\"><pre>SelectFromModel(estimator=LogisticRegression(), threshold=0.2)</pre><b>In a Jupyter environment, please rerun this cell to show the HTML representation or trust the notebook. <br />On GitHub, the HTML representation is unable to render, please try loading this page with nbviewer.org.</b></div><div class=\"sk-container\" hidden><div class=\"sk-item sk-dashed-wrapped\"><div class=\"sk-label-container\"><div class=\"sk-label sk-toggleable\"><input class=\"sk-toggleable__control sk-hidden--visually\" id=\"sk-estimator-id-4\" type=\"checkbox\" ><label for=\"sk-estimator-id-4\" class=\"sk-toggleable__label sk-toggleable__label-arrow\">SelectFromModel</label><div class=\"sk-toggleable__content\"><pre>SelectFromModel(estimator=LogisticRegression(), threshold=0.2)</pre></div></div></div><div class=\"sk-parallel\"><div class=\"sk-parallel-item\"><div class=\"sk-item\"><div class=\"sk-label-container\"><div class=\"sk-label sk-toggleable\"><input class=\"sk-toggleable__control sk-hidden--visually\" id=\"sk-estimator-id-5\" type=\"checkbox\" ><label for=\"sk-estimator-id-5\" class=\"sk-toggleable__label sk-toggleable__label-arrow\">estimator: LogisticRegression</label><div class=\"sk-toggleable__content\"><pre>LogisticRegression()</pre></div></div></div><div class=\"sk-serial\"><div class=\"sk-item\"><div class=\"sk-estimator sk-toggleable\"><input class=\"sk-toggleable__control sk-hidden--visually\" id=\"sk-estimator-id-6\" type=\"checkbox\" ><label for=\"sk-estimator-id-6\" class=\"sk-toggleable__label sk-toggleable__label-arrow\">LogisticRegression</label><div class=\"sk-toggleable__content\"><pre>LogisticRegression()</pre></div></div></div></div></div></div></div></div></div></div>"
      ],
      "text/plain": [
       "SelectFromModel(estimator=LogisticRegression(), threshold=0.2)"
      ]
     },
     "execution_count": 46,
     "metadata": {},
     "output_type": "execute_result"
    }
   ],
   "source": [
    "# створюємо та тренуємо модель з пороговим значенням ваги - 0,2\n",
    "\n",
    "sfm_selector = SelectFromModel(estimator=LogisticRegression(), threshold=0.2)\n",
    "sfm_selector.fit(X, y)"
   ]
  },
  {
   "cell_type": "code",
   "execution_count": 47,
   "id": "25c9c9ba",
   "metadata": {},
   "outputs": [
    {
     "data": {
      "text/plain": [
       "Index(['sepal length', 'sepal width', 'petal length', 'petal width'], dtype='object')"
      ]
     },
     "execution_count": 47,
     "metadata": {},
     "output_type": "execute_result"
    }
   ],
   "source": [
    "# виводимо ознаки відібрані по параметру важливості\n",
    "\n",
    "X.columns[sfm_selector.get_support()]"
   ]
  },
  {
   "cell_type": "markdown",
   "id": "57084884",
   "metadata": {},
   "source": [
    "### Фільтрації ознак по методу головних компонент PCA"
   ]
  },
  {
   "cell_type": "code",
   "execution_count": 48,
   "id": "d708427f",
   "metadata": {},
   "outputs": [],
   "source": [
    "import numpy as np\n",
    "from sklearn.decomposition import PCA"
   ]
  },
  {
   "cell_type": "code",
   "execution_count": null,
   "id": "46147e10",
   "metadata": {},
   "outputs": [],
   "source": [
    "# визначаємо Х\n",
    "\n",
    "X = pd.DataFrame(iris['data'], columns=['sepal length', 'sepal width', 'petal length', 'petal width']) "
   ]
  },
  {
   "cell_type": "code",
   "execution_count": 50,
   "id": "baf3c1a9",
   "metadata": {},
   "outputs": [
    {
     "data": {
      "text/plain": [
       "array([[-2.68412563,  0.31939725],\n",
       "       [-2.71414169, -0.17700123],\n",
       "       [-2.88899057, -0.14494943],\n",
       "       [-2.74534286, -0.31829898],\n",
       "       [-2.72871654,  0.32675451],\n",
       "       [-2.28085963,  0.74133045],\n",
       "       [-2.82053775, -0.08946138],\n",
       "       [-2.62614497,  0.16338496],\n",
       "       [-2.88638273, -0.57831175],\n",
       "       [-2.6727558 , -0.11377425],\n",
       "       [-2.50694709,  0.6450689 ],\n",
       "       [-2.61275523,  0.01472994],\n",
       "       [-2.78610927, -0.235112  ],\n",
       "       [-3.22380374, -0.51139459],\n",
       "       [-2.64475039,  1.17876464],\n",
       "       [-2.38603903,  1.33806233],\n",
       "       [-2.62352788,  0.81067951],\n",
       "       [-2.64829671,  0.31184914],\n",
       "       [-2.19982032,  0.87283904],\n",
       "       [-2.5879864 ,  0.51356031],\n",
       "       [-2.31025622,  0.39134594],\n",
       "       [-2.54370523,  0.43299606],\n",
       "       [-3.21593942,  0.13346807],\n",
       "       [-2.30273318,  0.09870885],\n",
       "       [-2.35575405, -0.03728186],\n",
       "       [-2.50666891, -0.14601688],\n",
       "       [-2.46882007,  0.13095149],\n",
       "       [-2.56231991,  0.36771886],\n",
       "       [-2.63953472,  0.31203998],\n",
       "       [-2.63198939, -0.19696122],\n",
       "       [-2.58739848, -0.20431849],\n",
       "       [-2.4099325 ,  0.41092426],\n",
       "       [-2.64886233,  0.81336382],\n",
       "       [-2.59873675,  1.09314576],\n",
       "       [-2.63692688, -0.12132235],\n",
       "       [-2.86624165,  0.06936447],\n",
       "       [-2.62523805,  0.59937002],\n",
       "       [-2.80068412,  0.26864374],\n",
       "       [-2.98050204, -0.48795834],\n",
       "       [-2.59000631,  0.22904384],\n",
       "       [-2.77010243,  0.26352753],\n",
       "       [-2.84936871, -0.94096057],\n",
       "       [-2.99740655, -0.34192606],\n",
       "       [-2.40561449,  0.18887143],\n",
       "       [-2.20948924,  0.43666314],\n",
       "       [-2.71445143, -0.2502082 ],\n",
       "       [-2.53814826,  0.50377114],\n",
       "       [-2.83946217, -0.22794557],\n",
       "       [-2.54308575,  0.57941002],\n",
       "       [-2.70335978,  0.10770608],\n",
       "       [ 1.28482569,  0.68516047],\n",
       "       [ 0.93248853,  0.31833364],\n",
       "       [ 1.46430232,  0.50426282],\n",
       "       [ 0.18331772, -0.82795901],\n",
       "       [ 1.08810326,  0.07459068],\n",
       "       [ 0.64166908, -0.41824687],\n",
       "       [ 1.09506066,  0.28346827],\n",
       "       [-0.74912267, -1.00489096],\n",
       "       [ 1.04413183,  0.2283619 ],\n",
       "       [-0.0087454 , -0.72308191],\n",
       "       [-0.50784088, -1.26597119],\n",
       "       [ 0.51169856, -0.10398124],\n",
       "       [ 0.26497651, -0.55003646],\n",
       "       [ 0.98493451, -0.12481785],\n",
       "       [-0.17392537, -0.25485421],\n",
       "       [ 0.92786078,  0.46717949],\n",
       "       [ 0.66028376, -0.35296967],\n",
       "       [ 0.23610499, -0.33361077],\n",
       "       [ 0.94473373, -0.54314555],\n",
       "       [ 0.04522698, -0.58383438],\n",
       "       [ 1.11628318, -0.08461685],\n",
       "       [ 0.35788842, -0.06892503],\n",
       "       [ 1.29818388, -0.32778731],\n",
       "       [ 0.92172892, -0.18273779],\n",
       "       [ 0.71485333,  0.14905594],\n",
       "       [ 0.90017437,  0.32850447],\n",
       "       [ 1.33202444,  0.24444088],\n",
       "       [ 1.55780216,  0.26749545],\n",
       "       [ 0.81329065, -0.1633503 ],\n",
       "       [-0.30558378, -0.36826219],\n",
       "       [-0.06812649, -0.70517213],\n",
       "       [-0.18962247, -0.68028676],\n",
       "       [ 0.13642871, -0.31403244],\n",
       "       [ 1.38002644, -0.42095429],\n",
       "       [ 0.58800644, -0.48428742],\n",
       "       [ 0.80685831,  0.19418231],\n",
       "       [ 1.22069088,  0.40761959],\n",
       "       [ 0.81509524, -0.37203706],\n",
       "       [ 0.24595768, -0.2685244 ],\n",
       "       [ 0.16641322, -0.68192672],\n",
       "       [ 0.46480029, -0.67071154],\n",
       "       [ 0.8908152 , -0.03446444],\n",
       "       [ 0.23054802, -0.40438585],\n",
       "       [-0.70453176, -1.01224823],\n",
       "       [ 0.35698149, -0.50491009],\n",
       "       [ 0.33193448, -0.21265468],\n",
       "       [ 0.37621565, -0.29321893],\n",
       "       [ 0.64257601,  0.01773819],\n",
       "       [-0.90646986, -0.75609337],\n",
       "       [ 0.29900084, -0.34889781],\n",
       "       [ 2.53119273, -0.00984911],\n",
       "       [ 1.41523588, -0.57491635],\n",
       "       [ 2.61667602,  0.34390315],\n",
       "       [ 1.97153105, -0.1797279 ],\n",
       "       [ 2.35000592, -0.04026095],\n",
       "       [ 3.39703874,  0.55083667],\n",
       "       [ 0.52123224, -1.19275873],\n",
       "       [ 2.93258707,  0.3555    ],\n",
       "       [ 2.32122882, -0.2438315 ],\n",
       "       [ 2.91675097,  0.78279195],\n",
       "       [ 1.66177415,  0.24222841],\n",
       "       [ 1.80340195, -0.21563762],\n",
       "       [ 2.1655918 ,  0.21627559],\n",
       "       [ 1.34616358, -0.77681835],\n",
       "       [ 1.58592822, -0.53964071],\n",
       "       [ 1.90445637,  0.11925069],\n",
       "       [ 1.94968906,  0.04194326],\n",
       "       [ 3.48705536,  1.17573933],\n",
       "       [ 3.79564542,  0.25732297],\n",
       "       [ 1.30079171, -0.76114964],\n",
       "       [ 2.42781791,  0.37819601],\n",
       "       [ 1.19900111, -0.60609153],\n",
       "       [ 3.49992004,  0.4606741 ],\n",
       "       [ 1.38876613, -0.20439933],\n",
       "       [ 2.2754305 ,  0.33499061],\n",
       "       [ 2.61409047,  0.56090136],\n",
       "       [ 1.25850816, -0.17970479],\n",
       "       [ 1.29113206, -0.11666865],\n",
       "       [ 2.12360872, -0.20972948],\n",
       "       [ 2.38800302,  0.4646398 ],\n",
       "       [ 2.84167278,  0.37526917],\n",
       "       [ 3.23067366,  1.37416509],\n",
       "       [ 2.15943764, -0.21727758],\n",
       "       [ 1.44416124, -0.14341341],\n",
       "       [ 1.78129481, -0.49990168],\n",
       "       [ 3.07649993,  0.68808568],\n",
       "       [ 2.14424331,  0.1400642 ],\n",
       "       [ 1.90509815,  0.04930053],\n",
       "       [ 1.16932634, -0.16499026],\n",
       "       [ 2.10761114,  0.37228787],\n",
       "       [ 2.31415471,  0.18365128],\n",
       "       [ 1.9222678 ,  0.40920347],\n",
       "       [ 1.41523588, -0.57491635],\n",
       "       [ 2.56301338,  0.2778626 ],\n",
       "       [ 2.41874618,  0.3047982 ],\n",
       "       [ 1.94410979,  0.1875323 ],\n",
       "       [ 1.52716661, -0.37531698],\n",
       "       [ 1.76434572,  0.07885885],\n",
       "       [ 1.90094161,  0.11662796],\n",
       "       [ 1.39018886, -0.28266094]])"
      ]
     },
     "execution_count": 50,
     "metadata": {},
     "output_type": "execute_result"
    }
   ],
   "source": [
    "# створюємо та тренуємо модель\n",
    "\n",
    "pca = PCA(n_components=2)\n",
    "new_X = pca.fit_transform(X)\n",
    "\n",
    "# нові отримані значення Х\n",
    "new_X"
   ]
  },
  {
   "cell_type": "markdown",
   "id": "8a61c5ad",
   "metadata": {},
   "source": [
    "### Фільтрації ознак по методу сингулярного розкладання матриць (SVD)"
   ]
  },
  {
   "cell_type": "code",
   "execution_count": 52,
   "id": "9caa9b97",
   "metadata": {},
   "outputs": [],
   "source": [
    "from sklearn.decomposition import TruncatedSVD"
   ]
  },
  {
   "cell_type": "code",
   "execution_count": 53,
   "id": "c2719568",
   "metadata": {},
   "outputs": [],
   "source": [
    "# дані Х\n",
    "\n",
    "X = pd.DataFrame(iris['data'], columns=['sepal length', 'sepal width', 'petal length', 'petal width']) "
   ]
  },
  {
   "cell_type": "code",
   "execution_count": 54,
   "id": "e719581e",
   "metadata": {},
   "outputs": [
    {
     "data": {
      "text/plain": [
       "array([[ 5.91274714e+00,  2.30203322e+00],\n",
       "       [ 5.57248242e+00,  1.97182599e+00],\n",
       "       [ 5.44697714e+00,  2.09520636e+00],\n",
       "       [ 5.43645948e+00,  1.87038151e+00],\n",
       "       [ 5.87564494e+00,  2.32829018e+00],\n",
       "       [ 6.47759822e+00,  2.32464996e+00],\n",
       "       [ 5.51597520e+00,  2.07090423e+00],\n",
       "       [ 5.85092859e+00,  2.14807482e+00],\n",
       "       [ 5.15891972e+00,  1.77506408e+00],\n",
       "       [ 5.64500117e+00,  1.99000106e+00],\n",
       "       [ 6.26539771e+00,  2.42576813e+00],\n",
       "       [ 5.75200785e+00,  2.02037338e+00],\n",
       "       [ 5.48058085e+00,  1.97777558e+00],\n",
       "       [ 4.95112411e+00,  2.04828749e+00],\n",
       "       [ 6.52596417e+00,  2.91606081e+00],\n",
       "       [ 6.79037199e+00,  2.82500759e+00],\n",
       "       [ 6.27239468e+00,  2.60811578e+00],\n",
       "       [ 5.92953789e+00,  2.26766614e+00],\n",
       "       [ 6.64813130e+00,  2.38959506e+00],\n",
       "       [ 6.09486463e+00,  2.36082303e+00],\n",
       "       [ 6.25397363e+00,  2.12001187e+00],\n",
       "       [ 6.07364677e+00,  2.27178150e+00],\n",
       "       [ 5.36999813e+00,  2.49808604e+00],\n",
       "       [ 6.04100482e+00,  1.87698371e+00],\n",
       "       [ 5.90591050e+00,  1.80777402e+00],\n",
       "       [ 5.75019501e+00,  1.85851056e+00],\n",
       "       [ 5.93581099e+00,  2.00847420e+00],\n",
       "       [ 6.03915884e+00,  2.25958425e+00],\n",
       "       [ 5.94984934e+00,  2.27577626e+00],\n",
       "       [ 5.60087980e+00,  1.88260699e+00],\n",
       "       [ 5.63798200e+00,  1.85635003e+00],\n",
       "       [ 6.18495337e+00,  2.19301062e+00],\n",
       "       [ 6.25041979e+00,  2.62199803e+00],\n",
       "       [ 6.47925073e+00,  2.79842433e+00],\n",
       "       [ 5.66179193e+00,  1.95563398e+00],\n",
       "       [ 5.62100870e+00,  2.25132529e+00],\n",
       "       [ 6.16188952e+00,  2.48656963e+00],\n",
       "       [ 5.78374337e+00,  2.33423977e+00],\n",
       "       [ 5.14562746e+00,  1.90060499e+00],\n",
       "       [ 5.92603941e+00,  2.17649231e+00],\n",
       "       [ 5.80312619e+00,  2.31011510e+00],\n",
       "       [ 4.97146870e+00,  1.51193425e+00],\n",
       "       [ 5.22164469e+00,  2.00995389e+00],\n",
       "       [ 6.00740111e+00,  1.99441449e+00],\n",
       "       [ 6.31685893e+00,  2.04299013e+00],\n",
       "       [ 5.51416236e+00,  1.90904141e+00],\n",
       "       [ 6.12937476e+00,  2.32432366e+00],\n",
       "       [ 5.42316721e+00,  1.99592242e+00],\n",
       "       [ 6.19028689e+00,  2.39735064e+00],\n",
       "       [ 5.76161909e+00,  2.16426683e+00],\n",
       "       [ 9.12024508e+00, -7.30558200e-02],\n",
       "       [ 8.58376916e+00, -1.36194931e-01],\n",
       "       [ 9.12651817e+00, -3.32247752e-01],\n",
       "       [ 7.27560832e+00, -4.60955955e-01],\n",
       "       [ 8.55814639e+00, -3.97341697e-01],\n",
       "       [ 7.87237747e+00, -4.85081002e-01],\n",
       "       [ 8.66605949e+00, -2.86037963e-01],\n",
       "       [ 6.45347358e+00,  2.23799845e-02],\n",
       "       [ 8.63768432e+00, -2.45515595e-01],\n",
       "       [ 7.16780021e+00, -2.91011251e-01],\n",
       "       [ 6.47915170e+00, -3.09633237e-01],\n",
       "       [ 7.97829519e+00, -1.75031916e-01],\n",
       "       [ 7.56278153e+00, -2.70441712e-01],\n",
       "       [ 8.33022188e+00, -4.92836582e-01],\n",
       "       [ 7.37356730e+00,  1.78974058e-01],\n",
       "       [ 8.70300135e+00, -3.83374315e-04],\n",
       "       [ 7.90686540e+00, -4.72883753e-01],\n",
       "       [ 7.65390386e+00, -1.24770897e-01],\n",
       "       [ 8.05346136e+00, -7.39774413e-01],\n",
       "       [ 7.34185398e+00, -1.83588948e-01],\n",
       "       [ 8.41249000e+00, -5.93982991e-01],\n",
       "       [ 7.91631631e+00, -1.70787632e-02],\n",
       "       [ 8.44780157e+00, -8.30799394e-01],\n",
       "       [ 8.25863175e+00, -4.78776871e-01],\n",
       "       [ 8.33356003e+00, -8.97512089e-02],\n",
       "       [ 8.58988192e+00, -8.34753146e-02],\n",
       "       [ 8.86928986e+00, -4.19455056e-01],\n",
       "       [ 9.02317031e+00, -5.83357800e-01],\n",
       "       [ 8.16930004e+00, -4.13888242e-01],\n",
       "       [ 7.23297912e+00,  2.17335895e-01],\n",
       "       [ 7.17743366e+00, -1.95814432e-01],\n",
       "       [ 7.10934202e+00, -9.05808962e-02],\n",
       "       [ 7.58488360e+00, -5.17721477e-02],\n",
       "       [ 8.41787888e+00, -9.82802956e-01],\n",
       "       [ 7.75664376e+00, -5.29718734e-01],\n",
       "       [ 8.37613388e+00, -1.74883073e-01],\n",
       "       [ 8.87369476e+00, -2.47349822e-01],\n",
       "       [ 8.08169840e+00, -5.17081855e-01],\n",
       "       [ 7.66808034e+00, -1.20683770e-01],\n",
       "       [ 7.35162556e+00, -3.51607055e-01],\n",
       "       [ 7.57804696e+00, -5.46031346e-01],\n",
       "       [ 8.31692961e+00, -3.67295677e-01],\n",
       "       [ 7.59817587e+00, -1.77313053e-01],\n",
       "       [ 6.49057578e+00, -3.87697543e-03],\n",
       "       [ 7.60535538e+00, -3.55573575e-01],\n",
       "       [ 7.77770129e+00, -1.28765654e-01],\n",
       "       [ 7.75648343e+00, -2.17807185e-01],\n",
       "       [ 8.18333840e+00, -1.46586189e-01],\n",
       "       [ 6.50459193e+00,  3.12121701e-01],\n",
       "       [ 7.66717393e+00, -2.01615180e-01],\n",
       "       [ 9.48408779e+00, -1.51660561e+00],\n",
       "       [ 8.31802951e+00, -1.14273918e+00],\n",
       "       [ 9.85248456e+00, -1.24495426e+00],\n",
       "       [ 9.00931450e+00, -1.21126802e+00],\n",
       "       [ 9.36730953e+00, -1.37895983e+00],\n",
       "       [ 1.05871448e+01, -1.59893200e+00],\n",
       "       [ 7.22462810e+00, -1.01391260e+00],\n",
       "       [ 1.01195289e+01, -1.42315831e+00],\n",
       "       [ 9.26032507e+00, -1.45802877e+00],\n",
       "       [ 1.03254119e+01, -1.16769130e+00],\n",
       "       [ 9.05063906e+00, -7.04811578e-01],\n",
       "       [ 8.87129618e+00, -1.11396715e+00],\n",
       "       [ 9.42194857e+00, -1.04674091e+00],\n",
       "       [ 8.13239132e+00, -1.24400619e+00],\n",
       "       [ 8.43999189e+00, -1.25990013e+00],\n",
       "       [ 9.12850228e+00, -9.78063221e-01],\n",
       "       [ 9.14624386e+00, -1.02889214e+00],\n",
       "       [ 1.10344162e+01, -1.23835244e+00],\n",
       "       [ 1.06977054e+01, -2.07054584e+00],\n",
       "       [ 8.15974415e+00, -1.15094167e+00],\n",
       "       [ 9.70925990e+00, -1.11944159e+00],\n",
       "       [ 8.12000547e+00, -1.03753388e+00],\n",
       "       [ 1.06207486e+01, -1.71636278e+00],\n",
       "       [ 8.57419106e+00, -8.24551736e-01],\n",
       "       [ 9.56346538e+00, -1.05286796e+00],\n",
       "       [ 1.00045412e+01, -1.07495308e+00],\n",
       "       [ 8.48578798e+00, -7.27428321e-01],\n",
       "       [ 8.53799528e+00, -7.17363366e-01],\n",
       "       [ 9.09678896e+00, -1.34062623e+00],\n",
       "       [ 9.79234073e+00, -9.73834912e-01],\n",
       "       [ 1.00708200e+01, -1.34204944e+00],\n",
       "       [ 1.09971537e+01, -9.00183935e-01],\n",
       "       [ 9.11357971e+00, -1.37499331e+00],\n",
       "       [ 8.66442919e+00, -8.08508955e-01],\n",
       "       [ 8.67790400e+00, -1.29465803e+00],\n",
       "       [ 1.04393327e+01, -1.28491639e+00],\n",
       "       [ 9.30010211e+00, -1.14409826e+00],\n",
       "       [ 9.10914166e+00, -1.00263518e+00],\n",
       "       [ 8.41158358e+00, -6.74914401e-01],\n",
       "       [ 9.48376712e+00, -8.92782514e-01],\n",
       "       [ 9.48651952e+00, -1.19445165e+00],\n",
       "       [ 9.36344597e+00, -7.48917309e-01],\n",
       "       [ 8.31802951e+00, -1.14273918e+00],\n",
       "       [ 9.73675086e+00, -1.28959199e+00],\n",
       "       [ 9.63062839e+00, -1.19033628e+00],\n",
       "       [ 9.22651660e+00, -9.31293195e-01],\n",
       "       [ 8.56626547e+00, -1.03913417e+00],\n",
       "       [ 9.02592271e+00, -8.85026933e-01],\n",
       "       [ 9.10559876e+00, -9.96415757e-01],\n",
       "       [ 8.49037542e+00, -9.15931258e-01]])"
      ]
     },
     "execution_count": 54,
     "metadata": {},
     "output_type": "execute_result"
    }
   ],
   "source": [
    "# створюємо та тренуємо модель, вівидимо нові дані Х\n",
    "\n",
    "svd =  TruncatedSVD(n_components = 2)\n",
    "X_new = svd.fit_transform(X)\n",
    "X_new"
   ]
  },
  {
   "cell_type": "markdown",
   "id": "43ed508e",
   "metadata": {},
   "source": [
    "### Фільтрації ознак по методу лінійного дискримінантного аналізу (LDA)"
   ]
  },
  {
   "cell_type": "code",
   "execution_count": 55,
   "id": "a2a49589",
   "metadata": {},
   "outputs": [],
   "source": [
    "from sklearn.discriminant_analysis import LinearDiscriminantAnalysis"
   ]
  },
  {
   "cell_type": "code",
   "execution_count": 57,
   "id": "5ca9ed64",
   "metadata": {},
   "outputs": [],
   "source": [
    "# дані Х та у\n",
    "\n",
    "X = pd.DataFrame(iris['data'], columns=['sepal length', 'sepal width', 'petal length', 'petal width'])              \n",
    "y = pd.DataFrame(iris['target'], columns=[\"target\"])"
   ]
  },
  {
   "cell_type": "code",
   "execution_count": 63,
   "id": "ce3d1182",
   "metadata": {},
   "outputs": [
    {
     "data": {
      "text/plain": [
       "array([[-2.01463220e+00, -5.62348616e+00, -1.86594028e-01, ...,\n",
       "        -1.09348511e-01, -1.83506669e-01,  9.65495420e-01],\n",
       "       [ 2.20967396e-01,  3.59240033e+00,  2.14901657e+00, ...,\n",
       "        -1.23115093e-01, -3.39210556e+00, -1.20766919e+00],\n",
       "       [ 2.23485453e+00,  2.70950363e+00,  4.26992781e+00, ...,\n",
       "         2.51256615e+00,  1.08370006e+00,  4.22490736e-03],\n",
       "       ...,\n",
       "       [-1.04697178e+00,  1.48367733e+00,  3.04170263e+00, ...,\n",
       "         1.54913444e+00,  1.99315402e+00,  2.17737830e+00],\n",
       "       [ 4.07872916e-01, -1.99167301e+00, -3.65835518e-01, ...,\n",
       "         9.16595358e-01,  5.26856349e-01, -1.41509141e+00],\n",
       "       [ 1.74145011e-01,  8.87174627e-01,  1.37776831e+00, ...,\n",
       "        -5.14965352e-02,  3.18833067e+00,  6.91242304e-01]])"
      ]
     },
     "execution_count": 63,
     "metadata": {},
     "output_type": "execute_result"
    }
   ],
   "source": [
    "# # створюємо та тренуємо модель, вівидимо нові дані Х\n",
    "\n",
    "lda = LinearDiscriminantAnalysis()\n",
    "new_data = lda.fit_transform(X, y)\n",
    "new_data"
   ]
  }
 ],
 "metadata": {
  "kernelspec": {
   "display_name": "Python 3 (ipykernel)",
   "language": "python",
   "name": "python3"
  },
  "language_info": {
   "codemirror_mode": {
    "name": "ipython",
    "version": 3
   },
   "file_extension": ".py",
   "mimetype": "text/x-python",
   "name": "python",
   "nbconvert_exporter": "python",
   "pygments_lexer": "ipython3",
   "version": "3.10.8"
  }
 },
 "nbformat": 4,
 "nbformat_minor": 5
}
